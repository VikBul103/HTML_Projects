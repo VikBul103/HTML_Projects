{
 "cells": [
  {
   "cell_type": "markdown",
   "id": "0bfb61be",
   "metadata": {},
   "source": [
    "## Лабораторна робота №3"
   ]
  },
  {
   "cell_type": "code",
   "execution_count": 12,
   "id": "8eaf334e",
   "metadata": {},
   "outputs": [
    {
     "name": "stdout",
     "output_type": "stream",
     "text": [
      "            Country  Energy Supply Energy Supply per Capita % Renewable\n",
      "181     South Korea   1.100700e+10                      221    2.279353\n",
      "231  United Kingdom   7.920000e+09                      124    10.60047\n",
      "233   United States   9.083800e+10                      286    11.57098\n"
     ]
    }
   ],
   "source": [
    "import pandas as pd\n",
    "import numpy as np\n",
    "\n",
    "# Завантаження даних із файлу Excel\n",
    "file_path = 'En_In.xls'\n",
    "energy = pd.read_excel(file_path)\n",
    "\n",
    "# Видалення перших двох стовпців\n",
    "energy = energy.iloc[:, 2:]\n",
    "\n",
    "# Перейменування колонок\n",
    "energy.columns = ['Country', 'Energy Supply', 'Energy Supply per Capita', '% Renewable']\n",
    "\n",
    "# Перетворення нечислових значень у NaN та приведення колонки до типу float\n",
    "energy['Energy Supply'] = pd.to_numeric(energy['Energy Supply'], errors='coerce')\n",
    "\n",
    "# Конвертація значень з Петаджоулей у Гігаджоулі\n",
    "energy['Energy Supply'] = energy['Energy Supply'] * 1000000\n",
    "\n",
    "# Заміна відсутніх даних на np.NaN\n",
    "energy['Energy Supply per Capita'] = energy['Energy Supply per Capita'].replace('...', np.nan)\n",
    "\n",
    "# Видалення цифр та дужок з назв країн\n",
    "energy['Country'] = energy['Country'].str.replace(r\"\\(.*\\)|\\d+\", \"\", regex=True)\n",
    "\n",
    "# Перейменування країн\n",
    "rename_dict = {\n",
    "    \"Republic of Korea\": \"South Korea\",\n",
    "    \"United States of America\": \"United States\",\n",
    "    \"United Kingdom of Great Britain and Northern Ireland\": \"United Kingdom\",\n",
    "    \"China, Hong Kong Special Administrative Region\": \"Hong Kong\"\n",
    "}\n",
    "energy['Country'] = energy['Country'].replace(rename_dict)\n",
    "\n",
    "energy['Country'] = energy['Country'].str.strip()\n",
    "\n",
    "# Вивід для перевірки результатів\n",
    "print(energy.loc[energy['Country'].isin(['United States', 'South Korea', 'United Kingdom'])])"
   ]
  },
  {
   "cell_type": "code",
   "execution_count": 5,
   "id": "8dda97e1",
   "metadata": {},
   "outputs": [
    {
     "name": "stdout",
     "output_type": "stream",
     "text": [
      "        Country  Country Code                            Indicator Name  \\\n",
      "0  Country Name  Country Code                            Indicator Name   \n",
      "1         Aruba           ABW  GDP at market prices (constant 2010 US$)   \n",
      "2       Andorra           AND  GDP at market prices (constant 2010 US$)   \n",
      "3   Afghanistan           AFG  GDP at market prices (constant 2010 US$)   \n",
      "4        Angola           AGO  GDP at market prices (constant 2010 US$)   \n",
      "\n",
      "   Indicator Code    1960    1961    1962    1963    1964    1965  ...  \\\n",
      "0  Indicator Code  1960.0  1961.0  1962.0  1963.0  1964.0  1965.0  ...   \n",
      "1  NY.GDP.MKTP.KD     NaN     NaN     NaN     NaN     NaN     NaN  ...   \n",
      "2  NY.GDP.MKTP.KD     NaN     NaN     NaN     NaN     NaN     NaN  ...   \n",
      "3  NY.GDP.MKTP.KD     NaN     NaN     NaN     NaN     NaN     NaN  ...   \n",
      "4  NY.GDP.MKTP.KD     NaN     NaN     NaN     NaN     NaN     NaN  ...   \n",
      "\n",
      "           2006          2007          2008          2009          2010  \\\n",
      "0  2.006000e+03  2.007000e+03  2.008000e+03  2.009000e+03  2.010000e+03   \n",
      "1           NaN           NaN           NaN           NaN  2.467704e+09   \n",
      "2  4.018196e+09  4.021331e+09  3.675728e+09  3.535389e+09  3.346317e+09   \n",
      "3  1.030523e+10  1.172119e+10  1.214448e+10  1.469733e+10  1.593680e+10   \n",
      "4  5.581103e+10  6.842044e+10  7.787420e+10  7.975320e+10  8.247091e+10   \n",
      "\n",
      "           2011          2012          2013          2014          2015  \n",
      "0  2.011000e+03  2.012000e+03  2.013000e+03  2.014000e+03  2.015000e+03  \n",
      "1           NaN           NaN           NaN           NaN           NaN  \n",
      "2  3.185605e+09  3.129538e+09  3.127550e+09           NaN           NaN  \n",
      "3  1.691113e+10  1.935220e+10  1.973134e+10  1.999032e+10  2.029415e+10  \n",
      "4  8.570262e+10  9.012096e+10  9.626143e+10  1.008863e+11  1.039106e+11  \n",
      "\n",
      "[5 rows x 60 columns]\n"
     ]
    }
   ],
   "source": [
    "import pandas as pd\n",
    "import numpy as np\n",
    "\n",
    "file_path = 'gpd.csv'  \n",
    "column_names = ['Country', 'Country Code', 'Indicator Name', 'Indicator Code'] + list(range(1960, 2016))\n",
    "gdp_df = pd.read_csv(file_path, header=None, names=column_names, skiprows=4)\n",
    "\n",
    "country_renames = {\n",
    "    \"Korea, Rep.\": \"South Korea\",\n",
    "    \"Iran, Islamic Rep.\": \"Iran\",\n",
    "    \"Hong Kong SAR, China\": \"Hong Kong\"\n",
    "}\n",
    "gdp_df['Country'] = gdp_df['Country'].replace(country_renames)\n",
    "\n",
    "print(gdp_df.head())"
   ]
  },
  {
   "cell_type": "code",
   "execution_count": 10,
   "id": "2c168848",
   "metadata": {},
   "outputs": [
    {
     "name": "stdout",
     "output_type": "stream",
     "text": [
      "                    Rank  Documents  Citable documents  Citations  \\\n",
      "Country                                                             \n",
      "China                  1     127050             126767     597237   \n",
      "United States          2      96661              94747     792274   \n",
      "Japan                  3      30504              30287     223024   \n",
      "United Kingdom         4      20944              20357     206091   \n",
      "Russian Federation     5      18534              18301      34266   \n",
      "Canada                 6      17899              17620     215003   \n",
      "Germany                7      17027              16831     140566   \n",
      "India                  8      15005              14841     128763   \n",
      "France                 9      13153              12973     130632   \n",
      "South Korea           10      11983              11923     114675   \n",
      "Italy                 11      10964              10794     111850   \n",
      "Spain                 12       9428               9330     123336   \n",
      "Iran                  13       8896               8819      57470   \n",
      "Australia             14       8831               8725      90765   \n",
      "Brazil                15       8668               8596      60702   \n",
      "\n",
      "                    Self-citations  Citations per document  H index  \\\n",
      "Country                                                               \n",
      "China                       411683                    4.70      138   \n",
      "United States               265436                    8.20      230   \n",
      "Japan                        61554                    7.31      134   \n",
      "United Kingdom               37874                    9.84      139   \n",
      "Russian Federation           12422                    1.85       57   \n",
      "Canada                       40930                   12.01      149   \n",
      "Germany                      27426                    8.26      126   \n",
      "India                        37209                    8.58      115   \n",
      "France                       28601                    9.93      114   \n",
      "South Korea                  22595                    9.57      104   \n",
      "Italy                        26661                   10.20      106   \n",
      "Spain                        23964                   13.08      115   \n",
      "Iran                         19125                    6.46       72   \n",
      "Australia                    15606                   10.28      107   \n",
      "Brazil                       14396                    7.00       86   \n",
      "\n",
      "                    Energy Supply Energy Supply per Capita % Renewable  \\\n",
      "Country                                                                  \n",
      "China                1.271910e+11                       93    19.75491   \n",
      "United States        9.083800e+10                      286    11.57098   \n",
      "Japan                1.898400e+10                      149    10.23282   \n",
      "United Kingdom       7.920000e+09                      124    10.60047   \n",
      "Russian Federation   3.070900e+10                      214    17.28868   \n",
      "Canada               1.043100e+10                      296    61.94543   \n",
      "Germany              1.326100e+10                      165    17.90153   \n",
      "India                3.319500e+10                       26    14.96908   \n",
      "France               1.059700e+10                      166    17.02028   \n",
      "South Korea          1.100700e+10                      221    2.279353   \n",
      "Italy                6.530000e+09                      109    33.66723   \n",
      "Spain                4.923000e+09                      106    37.96859   \n",
      "Iran                 9.172000e+09                      119    5.707721   \n",
      "Australia            5.386000e+09                      231    11.81081   \n",
      "Brazil               1.214900e+10                       59    69.64803   \n",
      "\n",
      "                            2006          2007          2008          2009  \\\n",
      "Country                                                                      \n",
      "China               3.992331e+12  4.559041e+12  4.997775e+12  5.459247e+12   \n",
      "United States       1.479230e+13  1.505540e+13  1.501149e+13  1.459484e+13   \n",
      "Japan               5.496542e+12  5.617036e+12  5.558527e+12  5.251308e+12   \n",
      "United Kingdom      2.419631e+12  2.482203e+12  2.470614e+12  2.367048e+12   \n",
      "Russian Federation  1.385793e+12  1.504071e+12  1.583004e+12  1.459199e+12   \n",
      "Canada              1.564469e+12  1.596740e+12  1.612713e+12  1.565145e+12   \n",
      "Germany             3.332891e+12  3.441561e+12  3.478809e+12  3.283340e+12   \n",
      "India               1.265894e+12  1.374865e+12  1.428361e+12  1.549483e+12   \n",
      "France              2.607840e+12  2.669424e+12  2.674637e+12  2.595967e+12   \n",
      "South Korea         9.410199e+11  9.924316e+11  1.020510e+12  1.027730e+12   \n",
      "Italy               2.202170e+12  2.234627e+12  2.211154e+12  2.089938e+12   \n",
      "Spain               1.414823e+12  1.468146e+12  1.484530e+12  1.431475e+12   \n",
      "Iran                3.895523e+11  4.250646e+11  4.289909e+11  4.389208e+11   \n",
      "Australia           1.021939e+12  1.060340e+12  1.099644e+12  1.119654e+12   \n",
      "Brazil              1.845080e+12  1.957118e+12  2.056809e+12  2.054215e+12   \n",
      "\n",
      "                            2010          2011          2012          2013  \\\n",
      "Country                                                                      \n",
      "China               6.039659e+12  6.612490e+12  7.124978e+12  7.672448e+12   \n",
      "United States       1.496437e+13  1.520402e+13  1.554216e+13  1.577367e+13   \n",
      "Japan               5.498718e+12  5.473738e+12  5.569102e+12  5.644659e+12   \n",
      "United Kingdom      2.403504e+12  2.450911e+12  2.479809e+12  2.533370e+12   \n",
      "Russian Federation  1.524917e+12  1.589943e+12  1.645876e+12  1.666934e+12   \n",
      "Canada              1.613406e+12  1.664087e+12  1.693133e+12  1.730688e+12   \n",
      "Germany             3.417298e+12  3.542371e+12  3.556724e+12  3.567317e+12   \n",
      "India               1.708459e+12  1.821872e+12  1.924235e+12  2.051982e+12   \n",
      "France              2.646995e+12  2.702032e+12  2.706968e+12  2.722567e+12   \n",
      "South Korea         1.094499e+12  1.134796e+12  1.160809e+12  1.194429e+12   \n",
      "Italy               2.125185e+12  2.137439e+12  2.077184e+12  2.040871e+12   \n",
      "Spain               1.431673e+12  1.417355e+12  1.380216e+12  1.357139e+12   \n",
      "Iran                4.677902e+11  4.853309e+11  4.532569e+11  4.445926e+11   \n",
      "Australia           1.142251e+12  1.169431e+12  1.211913e+12  1.241484e+12   \n",
      "Brazil              2.208872e+12  2.295245e+12  2.339209e+12  2.409740e+12   \n",
      "\n",
      "                            2014          2015  \n",
      "Country                                         \n",
      "China               8.230121e+12  8.797999e+12  \n",
      "United States       1.615662e+13  1.654857e+13  \n",
      "Japan               5.642884e+12  5.669563e+12  \n",
      "United Kingdom      2.605643e+12  2.666333e+12  \n",
      "Russian Federation  1.678709e+12  1.616149e+12  \n",
      "Canada              1.773486e+12  1.792609e+12  \n",
      "Germany             3.624386e+12  3.685556e+12  \n",
      "India               2.200617e+12  2.367206e+12  \n",
      "France              2.729632e+12  2.761185e+12  \n",
      "South Korea         1.234340e+12  1.266580e+12  \n",
      "Italy               2.033868e+12  2.049316e+12  \n",
      "Spain               1.375605e+12  1.419821e+12  \n",
      "Iran                4.639027e+11           NaN  \n",
      "Australia           1.272520e+12  1.301251e+12  \n",
      "Brazil              2.412231e+12  2.319423e+12  \n"
     ]
    }
   ],
   "source": [
    "import pandas as pd\n",
    "import numpy as np\n",
    "\n",
    "scimagojr_file = 'scimagojr.xlsx'\n",
    "scimago_df = pd.read_excel(scimagojr_file)\n",
    "\n",
    "top_countries = scimago_df[scimago_df['Rank'] <= 15].reset_index(drop=True)\n",
    "\n",
    "top_countries[['Rank', 'Country']]\n",
    "\n",
    "energy_file = 'En_In.xls'\n",
    "energy_df = pd.read_excel(energy_file).iloc[:, 2:]\n",
    "energy_df.columns = ['Country', 'Energy Supply', 'Energy Supply per Capita', '% Renewable']\n",
    "energy_df['Energy Supply'] = pd.to_numeric(energy_df['Energy Supply'], errors='coerce') * 1_000_000\n",
    "energy_df['Energy Supply per Capita'] = energy_df['Energy Supply per Capita'].replace('...', np.nan)\n",
    "energy_df['Country'] = energy_df['Country'].str.replace(r\"\\(.*\\)|\\d+\", \"\", regex=True).str.strip()\n",
    "\n",
    "rename_dict = {\n",
    "    \"Republic of Korea\": \"South Korea\",\n",
    "    \"United States of America\": \"United States\",\n",
    "    \"United Kingdom of Great Britain and Northern Ireland\": \"United Kingdom\",\n",
    "    \"China, Hong Kong Special Administrative Region\": \"Hong Kong\"\n",
    "}\n",
    "energy_df['Country'] = energy_df['Country'].replace(rename_dict)\n",
    "\n",
    "gdp_file = 'gpd.csv'\n",
    "column_names = ['Country', 'Country Code', 'Indicator Name', 'Indicator Code'] + list(range(1960, 2016))\n",
    "gdp_df = pd.read_csv(gdp_file, header=None, names=column_names, skiprows=4)\n",
    "gdp_df['Country'] = gdp_df['Country'].replace({\n",
    "    \"Korea, Rep.\": \"South Korea\",\n",
    "    \"Iran, Islamic Rep.\": \"Iran\",\n",
    "    \"Hong Kong SAR, China\": \"Hong Kong\"\n",
    "})\n",
    "\n",
    "gdp_df = gdp_df[['Country'] + list(range(2006, 2016))]\n",
    "\n",
    "merged_df = pd.merge(top_countries, energy_df, on='Country', how='inner')\n",
    "merged_df = pd.merge(merged_df, gdp_df, on='Country', how='inner')\n",
    "\n",
    "final_df = merged_df.set_index('Country')\n",
    "final_df = final_df[['Rank', 'Documents', 'Citable documents', 'Citations', 'Self-citations', \n",
    "                     'Citations per document', 'H index', 'Energy Supply', 'Energy Supply per Capita', \n",
    "                     '% Renewable', 2006, 2007, 2008, 2009, 2010, 2011, 2012, 2013, 2014, 2015]]\n",
    "\n",
    "print(final_df)\n"
   ]
  },
  {
   "cell_type": "code",
   "execution_count": 6,
   "id": "3f68c135",
   "metadata": {},
   "outputs": [
    {
     "data": {
      "text/plain": [
       "Country\n",
       "United States         1.536434e+13\n",
       "China                 6.348609e+12\n",
       "Japan                 5.542208e+12\n",
       "Germany               3.493025e+12\n",
       "France                2.681725e+12\n",
       "United Kingdom        2.487907e+12\n",
       "Brazil                2.189794e+12\n",
       "Italy                 2.120175e+12\n",
       "India                 1.769297e+12\n",
       "Canada                1.660647e+12\n",
       "Russian Federation    1.565459e+12\n",
       "Spain                 1.418078e+12\n",
       "Australia             1.164043e+12\n",
       "South Korea           1.106715e+12\n",
       "Iran                  4.441558e+11\n",
       "dtype: float64"
      ]
     },
     "execution_count": 6,
     "metadata": {},
     "output_type": "execute_result"
    }
   ],
   "source": [
    "def average_gdp(df):\n",
    "    gdp_columns = list(range(2006, 2016))\n",
    "    avg_gdp = df[gdp_columns].mean(axis=1).sort_values(ascending=False)\n",
    "    return avg_gdp\n",
    "\n",
    "average_gdp(final_df)"
   ]
  },
  {
   "cell_type": "code",
   "execution_count": 8,
   "id": "60de8ecd",
   "metadata": {},
   "outputs": [
    {
     "data": {
      "text/plain": [
       "('France', 153345695364.24023)"
      ]
     },
     "execution_count": 8,
     "metadata": {},
     "output_type": "execute_result"
    }
   ],
   "source": [
    "def gdp_change_for_fifth(df):\n",
    "    avg_gdp = average_gdp(df)\n",
    "    fifth_country = avg_gdp.index[4]\n",
    "    gdp_change = df.loc[fifth_country, 2015] - df.loc[fifth_country, 2006]\n",
    "    return (fifth_country, gdp_change)\n",
    "\n",
    "gdp_change_for_fifth(final_df)"
   ]
  },
  {
   "cell_type": "code",
   "execution_count": 22,
   "id": "d71224ff",
   "metadata": {},
   "outputs": [
    {
     "data": {
      "text/plain": [
       "('Brazil', 69.64803)"
      ]
     },
     "execution_count": 22,
     "metadata": {},
     "output_type": "execute_result"
    }
   ],
   "source": [
    "def max_renewable(df):\n",
    "    df['% Renewable'] = pd.to_numeric(df['% Renewable'], errors='coerce')\n",
    "    \n",
    "    max_renewable_country = df['% Renewable'].idxmax()\n",
    "    max_renewable_value = df.loc[max_renewable_country, '% Renewable']\n",
    "    return (max_renewable_country, max_renewable_value)\n",
    "\n",
    "max_renewable(final_df)"
   ]
  },
  {
   "cell_type": "code",
   "execution_count": 12,
   "id": "bf556946",
   "metadata": {},
   "outputs": [
    {
     "data": {
      "text/plain": [
       "('Japan', 127409395.97315437)"
      ]
     },
     "execution_count": 12,
     "metadata": {},
     "output_type": "execute_result"
    }
   ],
   "source": [
    "def population_estimation(df):\n",
    "    df['Population Estimate'] = df['Energy Supply'] / df['Energy Supply per Capita']\n",
    "    sorted_population = df['Population Estimate'].sort_values(ascending=False)\n",
    "    sixth_country = sorted_population.index[5]\n",
    "    sixth_population = sorted_population.iloc[5]\n",
    "    return (sixth_country, sixth_population)\n",
    "\n",
    "population_estimation(final_df)"
   ]
  },
  {
   "cell_type": "code",
   "execution_count": 23,
   "id": "707c7c96",
   "metadata": {},
   "outputs": [
    {
     "data": {
      "text/plain": [
       "0.7940010435442946"
      ]
     },
     "execution_count": 23,
     "metadata": {},
     "output_type": "execute_result"
    }
   ],
   "source": [
    "def citation_correlation(df):\n",
    "    df['Population Estimate'] = pd.to_numeric(df['Population Estimate'], errors='coerce')\n",
    "    df['Energy Supply per Capita'] = pd.to_numeric(df['Energy Supply per Capita'], errors='coerce')\n",
    "    \n",
    "    df['Citable docs per Capita'] = df['Citable documents'] / df['Population Estimate']\n",
    "    \n",
    "    correlation = df['Citable docs per Capita'].corr(df['Energy Supply per Capita'])\n",
    "    return correlation\n",
    "\n",
    "citation_correlation(final_df)"
   ]
  },
  {
   "cell_type": "code",
   "execution_count": 15,
   "id": "cf8cba0f",
   "metadata": {},
   "outputs": [
    {
     "data": {
      "text/plain": [
       "Country\n",
       "United States         0\n",
       "Japan                 0\n",
       "United Kingdom        0\n",
       "India                 0\n",
       "South Korea           0\n",
       "Iran                  0\n",
       "Australia             0\n",
       "China                 1\n",
       "Russian Federation    1\n",
       "Canada                1\n",
       "Germany               1\n",
       "France                1\n",
       "Italy                 1\n",
       "Spain                 1\n",
       "Brazil                1\n",
       "Name: Renewable Flag, dtype: int32"
      ]
     },
     "execution_count": 15,
     "metadata": {},
     "output_type": "execute_result"
    }
   ],
   "source": [
    "def renewable_flag(df):\n",
    "    median_renewable = df['% Renewable'].median()\n",
    "    df['Renewable Flag'] = (df['% Renewable'] >= median_renewable).astype(int)\n",
    "    sorted_series = df['Renewable Flag'].sort_values(ascending=True)\n",
    "    return sorted_series\n",
    "\n",
    "renewable_flag(final_df)"
   ]
  },
  {
   "cell_type": "code",
   "execution_count": 16,
   "id": "69f96766",
   "metadata": {},
   "outputs": [
    {
     "data": {
      "text/html": [
       "<div>\n",
       "<style scoped>\n",
       "    .dataframe tbody tr th:only-of-type {\n",
       "        vertical-align: middle;\n",
       "    }\n",
       "\n",
       "    .dataframe tbody tr th {\n",
       "        vertical-align: top;\n",
       "    }\n",
       "\n",
       "    .dataframe thead th {\n",
       "        text-align: right;\n",
       "    }\n",
       "</style>\n",
       "<table border=\"1\" class=\"dataframe\">\n",
       "  <thead>\n",
       "    <tr style=\"text-align: right;\">\n",
       "      <th></th>\n",
       "      <th>size</th>\n",
       "      <th>sum</th>\n",
       "      <th>mean</th>\n",
       "      <th>std</th>\n",
       "    </tr>\n",
       "    <tr>\n",
       "      <th>Continent</th>\n",
       "      <th></th>\n",
       "      <th></th>\n",
       "      <th></th>\n",
       "      <th></th>\n",
       "    </tr>\n",
       "  </thead>\n",
       "  <tbody>\n",
       "    <tr>\n",
       "      <th>Asia</th>\n",
       "      <td>5</td>\n",
       "      <td>2898666386.6106</td>\n",
       "      <td>5.797333e+08</td>\n",
       "      <td>6.790979e+08</td>\n",
       "    </tr>\n",
       "    <tr>\n",
       "      <th>Australia</th>\n",
       "      <td>1</td>\n",
       "      <td>23316017.316017</td>\n",
       "      <td>2.331602e+07</td>\n",
       "      <td>NaN</td>\n",
       "    </tr>\n",
       "    <tr>\n",
       "      <th>Europe</th>\n",
       "      <td>6</td>\n",
       "      <td>457929667.216372</td>\n",
       "      <td>7.632161e+07</td>\n",
       "      <td>3.464767e+07</td>\n",
       "    </tr>\n",
       "    <tr>\n",
       "      <th>North America</th>\n",
       "      <td>2</td>\n",
       "      <td>352855249.48025</td>\n",
       "      <td>1.764276e+08</td>\n",
       "      <td>1.996696e+08</td>\n",
       "    </tr>\n",
       "    <tr>\n",
       "      <th>South America</th>\n",
       "      <td>1</td>\n",
       "      <td>205915254.237288</td>\n",
       "      <td>2.059153e+08</td>\n",
       "      <td>NaN</td>\n",
       "    </tr>\n",
       "  </tbody>\n",
       "</table>\n",
       "</div>"
      ],
      "text/plain": [
       "               size               sum          mean           std\n",
       "Continent                                                        \n",
       "Asia              5   2898666386.6106  5.797333e+08  6.790979e+08\n",
       "Australia         1   23316017.316017  2.331602e+07           NaN\n",
       "Europe            6  457929667.216372  7.632161e+07  3.464767e+07\n",
       "North America     2   352855249.48025  1.764276e+08  1.996696e+08\n",
       "South America     1  205915254.237288  2.059153e+08           NaN"
      ]
     },
     "execution_count": 16,
     "metadata": {},
     "output_type": "execute_result"
    }
   ],
   "source": [
    "def population_stats_by_continent(df):\n",
    "    ContinentDict = {\n",
    "        'China': 'Asia', 'United States': 'North America', 'Japan': 'Asia', \n",
    "        'United Kingdom': 'Europe', 'Russian Federation': 'Europe', 'Canada': 'North America', \n",
    "        'Germany': 'Europe', 'India': 'Asia', 'France': 'Europe', 'South Korea': 'Asia', \n",
    "        'Italy': 'Europe', 'Spain': 'Europe', 'Iran': 'Asia', 'Australia': 'Australia', \n",
    "        'Brazil': 'South America'\n",
    "    }\n",
    "\n",
    "    df['Continent'] = df.index.to_series().map(ContinentDict)\n",
    "\n",
    "    df['Population Estimate'] = df['Energy Supply'] / df['Energy Supply per Capita']\n",
    "    \n",
    "    population_stats = df.groupby('Continent')['Population Estimate'].agg(['size', 'sum', 'mean', 'std'])\n",
    "    return population_stats\n",
    "\n",
    "population_stats_by_continent(final_df)"
   ]
  },
  {
   "cell_type": "code",
   "execution_count": 21,
   "id": "b26233f3",
   "metadata": {},
   "outputs": [
    {
     "data": {
      "image/png": "[encoded data removed]",
      "text/plain": [
       "<Figure size 1400x600 with 1 Axes>"
      ]
     },
     "metadata": {},
     "output_type": "display_data"
    }
   ],
   "source": [
    "import matplotlib.pyplot as plt\n",
    "import seaborn as sns\n",
    "\n",
    "# Додаємо стовпець для континенту\n",
    "ContinentDict = {\n",
    "    'China': 'Asia', 'United States': 'North America', 'Japan': 'Asia', \n",
    "    'United Kingdom': 'Europe', 'Russian Federation': 'Europe', 'Canada': 'North America', \n",
    "    'Germany': 'Europe', 'India': 'Asia', 'France': 'Europe', 'South Korea': 'Asia', \n",
    "    'Italy': 'Europe', 'Spain': 'Europe', 'Iran': 'Asia', 'Australia': 'Australia', \n",
    "    'Brazil': 'South America'\n",
    "}\n",
    "final_df['Continent'] = final_df.index.to_series().map(ContinentDict)\n",
    "\n",
    "# Налаштування кольорів для континентів\n",
    "continent_colors = {\n",
    "    'Asia': 'red', 'North America': 'blue', 'Europe': 'green', \n",
    "    'Australia': 'yellow', 'South America': 'orange'\n",
    "}\n",
    "\n",
    "# Побудова бульбашкової діаграми\n",
    "plt.figure(figsize=(14, 6))\n",
    "bubble_plot = plt.scatter(\n",
    "    x=final_df['Rank'],\n",
    "    y=final_df['% Renewable'],\n",
    "    s=final_df[2015] / 1e10,  # Масштабуємо ВВП для розміру бульбашок\n",
    "    c=final_df['Continent'].map(continent_colors),  # Кольори для континентів\n",
    "    alpha=0.6, edgecolors=\"w\", linewidth=0.5\n",
    ")\n",
    "\n",
    "# Додаємо підписи для кожної країни\n",
    "for i, country in enumerate(final_df.index):\n",
    "    plt.text(\n",
    "        final_df['Rank'][i],\n",
    "        final_df['% Renewable'][i],\n",
    "        country,\n",
    "        ha='center', va='center', fontsize=8, color='black'\n",
    "    )\n",
    "\n",
    "# Додаємо легенду для континентів\n",
    "for continent, color in continent_colors.items():\n",
    "    plt.scatter([], [], c=color, alpha=0.6, s=100, label=continent)\n",
    "plt.legend(scatterpoints=1, frameon=True, labelspacing=1, title=\"Continent\")\n",
    "\n",
    "# Додаємо підписи осей і заголовок\n",
    "plt.xlabel('Rank')\n",
    "plt.ylabel('% Renewable')\n",
    "plt.title('Bubble chart')\n",
    "\n",
    "# Показуємо графік\n",
    "plt.show()"
   ]
  },
  {
   "cell_type": "code",
   "execution_count": null,
   "id": "ea803b52",
   "metadata": {},
   "outputs": [],
   "source": []
  }
 ],
 "metadata": {
  "kernelspec": {
   "display_name": "Python 3 (ipykernel)",
   "language": "python",
   "name": "python3"
  },
  "language_info": {
   "codemirror_mode": {
    "name": "ipython",
    "version": 3
   },
   "file_extension": ".py",
   "mimetype": "text/x-python",
   "name": "python",
   "nbconvert_exporter": "python",
   "pygments_lexer": "ipython3",
   "version": "3.7.1"
  }
 },
 "nbformat": 4,
 "nbformat_minor": 5
}
