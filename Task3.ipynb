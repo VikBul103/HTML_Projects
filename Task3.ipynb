{
 "cells": [
  {
   "cell_type": "code",
   "execution_count": 6,
   "id": "6d07ee56",
   "metadata": {},
   "outputs": [
    {
     "name": "stdout",
     "output_type": "stream",
     "text": [
      "7\n"
     ]
    }
   ],
   "source": [
    "N = ord(\"V\") % 10 + 1\n",
    "print(N)"
   ]
  },
  {
   "cell_type": "markdown",
   "id": "d9fac5f3",
   "metadata": {},
   "source": [
    "<div style = \"color:red\">Кити (грец. κῆτος — «морське чудовисько») — **морські ссавці** з\n",
    "інфразагони китоподібних, що не належать ні до дельфінів, ні до\n",
    "морських свиней.</div>"
   ]
  },
  {
   "cell_type": "markdown",
   "id": "ba7740ad",
   "metadata": {},
   "source": [
    "<div style = \"color:red\">\n",
    "    <h1>Ісландія</h1>\n",
    "</div>\n",
    "\n",
    "<img src = \"https://upload.wikimedia.org/wikipedia/commons/e/eb/Hvannadalshnjukur.JPG\" alt = \"Ісландія\">\n",
    "\n",
    "<div style=\"border: 2px solid #000; padding: 10px;\">\n",
    "Ісландія — північноєвропейська острівна країна, розташована в Північній Атлантиці. Її назва походить від слова *ice* (лід), але країна відома не лише своєю холодною природою, а й активними вулканами, гарячими джерелами та унікальною культурою.\n",
    "</div>\n",
    "\n",
    "---\n",
    "\n",
    "## 1. Основна інформація\n",
    "- **Столиця**: Рейк'явік\n",
    "- **Площа**: *103,000 км²*\n",
    "- **Населення**: *приблизно 372,000 осіб*\n",
    "- **Офіційна мова**: Ісландська\n",
    "- **Валюта**: Ісландська крона (ISK)\n",
    "\n",
    "### 1.1 Географія\n",
    "<div style=\"color: blue;\">\n",
    "Ісландія — найбільший острів в світі, розташований на краю Полярного кола. Її ландшафт поєднує вулкани, льодовики, гейзери та мальовничі фіорди.\n",
    "</div>\n",
    "\n",
    "### 1.2 Населення\n",
    "**Ісландці** належать до нащадків вікінгів і кельтських переселенців. **Рейк'явік** є найбільш густонаселеним містом країни, де проживає понад половина населення.\n",
    "\n",
    "---\n",
    "\n",
    "## 2. Державний устрій\n",
    "- **Форма правління**: Парламентська республіка\n",
    "- **Президент**: Гудні Йоханнессон\n",
    "- **Прем'єр-міністр**: Катрін Якобсдоуттір\n",
    "- **Парламент**: Альтинг — один із найстаріших парламентів світу (заснований у 930 році).\n",
    "\n",
    "---\n",
    "\n",
    "## 3. Видатні постаті\n",
    "\n",
    "| Ім'я             | Рід діяльності        |\n",
    "|------------------|-----------------------|\n",
    "| **Лейф Еріксон** | Вікінг-мореплавець     |\n",
    "| **Галдор Лакснесс** | Письменник, лауреат Нобелівської премії |\n",
    "| **Бйорк**        | Співачка та композитор |\n",
    "| **Арні Магнуссон** | Ісландський філолог   |\n",
    "\n",
    "---\n",
    "\n",
    "## 4. Культура та спадщина\n",
    "\n",
    "Ісландія славиться своїми унікальними культурними та природними пам'ятками.\n",
    "\n",
    "### 4.1 **Пам'ятки природи**:\n",
    "\n",
    "- **Національний парк Тінгведлір** (входить до списку Всесвітньої спадщини ЮНЕСКО).\n",
    "- **Льодовики Ватнайокюдль** — найбільший льодовик Європи.\n",
    "- **Гейзер Строккур** — один з найактивніших гейзерів у світі.\n",
    "  \n",
    "<div style=\"border: 2px solid #FF6347; padding: 5px;\">\n",
    "  *Ісландія — країна вогню і льоду!*\n",
    "</div>\n",
    "\n",
    "\n",
    "### 4.2 **Культурні традиції**:\n",
    "- Ісландська сага — середньовічні твори про життя вікінгів.\n",
    "- Фестивалі музики та літератури — популярні серед сучасних ісландців.\n",
    "\n",
    "---\n",
    "\n",
    "## 5. Висновки\n",
    "\n",
    "Ісландія — це країна, яка **поєднує давню культуру та вражаючу природу**. \n",
    "\n",
    "---\n",
    "\n",
    "### 6. Ключові факти:\n",
    "\n",
    "- Населення: **372,000**\n",
    "- Столиця: **Рейк'явік**\n",
    "- Видатні особистості: **Бйорк, Лейф Еріксон, Галдор Лакснесс**\n",
    "- Пам'ятки: **Тінгведлір, Ватнайокюдль, Гейзер Строккур**\n",
    "\n",
    "<div style=\"border: 2px solid #00FF00; padding: 10px;\">\n",
    "  Досліджуйте Ісландію та відкрийте для себе країну чарівних ландшафтів і давніх легенд!\n",
    "</div>\n",
    "\n",
    "<p>Більше інформації на <a href=\"https://uk.wikipedia.org/wiki/%D0%86%D1%81%D0%BB%D0%B0%D0%BD%D0%B4%D1%96%D1%8F\" target=\"_blank\">Вікіпедії</a>.</p>\n",
    "\n"
   ]
  },
  {
   "cell_type": "code",
   "execution_count": 9,
   "id": "60269b8c",
   "metadata": {},
   "outputs": [
    {
     "data": {
      "text/html": [
       "\n",
       "<svg width = \"160\"; height = \"100\">\n",
       "    <rect width=\"160\" height=\"100\" fill=\"#344ca4\" />\n",
       "    <rect width=\"30\" height=\"100\" x = \"35\"  fill=\"#fff\" />\n",
       "    <rect width=\"320\" height=\"30\" y = \"35\" fill=\"#fff\" />\n",
       "    <rect width=\"20\" height=\"100\" x = \"40\"  fill=\"#c60c30\" />\n",
       "    <rect width=\"160\" height=\"20\" y = \"40\" fill=\"#c60c30\" />\n",
       "</svg>  \n"
      ],
      "text/plain": [
       "<IPython.core.display.HTML object>"
      ]
     },
     "metadata": {},
     "output_type": "display_data"
    }
   ],
   "source": [
    "%%HTML\n",
    "\n",
    "<svg width = \"160\"; height = \"100\">\n",
    "    <rect width=\"160\" height=\"100\" fill=\"#344ca4\" />\n",
    "    <rect width=\"30\" height=\"100\" x = \"35\"  fill=\"#fff\" />\n",
    "    <rect width=\"320\" height=\"30\" y = \"35\" fill=\"#fff\" />\n",
    "    <rect width=\"20\" height=\"100\" x = \"40\"  fill=\"#c60c30\" />\n",
    "    <rect width=\"160\" height=\"20\" y = \"40\" fill=\"#c60c30\" />\n",
    "</svg>  "
   ]
  },
  {
   "cell_type": "code",
   "execution_count": 40,
   "id": "36b9b0e3",
   "metadata": {
    "scrolled": true
   },
   "outputs": [
    {
     "data": {
      "text/plain": [
       "'0b100000'"
      ]
     },
     "execution_count": 40,
     "metadata": {},
     "output_type": "execute_result"
    }
   ],
   "source": [
    "bin(32)"
   ]
  },
  {
   "cell_type": "code",
   "execution_count": 5,
   "id": "0b8d0487",
   "metadata": {},
   "outputs": [],
   "source": [
    "def task_7(arg):\n",
    "    \n",
    "    if isinstance(arg, int):\n",
    "        return bin(arg)\n",
    "    elif isinstance(arg, float):\n",
    "        \n",
    "        if arg > 0:\n",
    "            sign = 0\n",
    "        elif arg == 0:\n",
    "            return '0 у двійковій системі буде 0|0'\n",
    "        else:\n",
    "            sign = 1\n",
    "            arg = abs(arg)\n",
    "        \n",
    "        integer_part = int(arg)\n",
    "        decimal_part = arg - integer_part\n",
    "    \n",
    "        int_binary = \"\"\n",
    "        while integer_part > 0:\n",
    "            int_binary = str(integer_part % 2) + int_binary\n",
    "            integer_part = integer_part // 2\n",
    "    \n",
    "        decimal_binary = \"\"\n",
    "        precision = 3\n",
    "        while decimal_part != 0 and len(decimal_binary) < precision:\n",
    "            decimal_part *= 2\n",
    "            bit = int(decimal_part)\n",
    "            decimal_binary += str(bit)\n",
    "            decimal_part -= bit\n",
    "        return f'{arg} у двійковій системі буде {sign}|{int_binary}.{decimal_binary}'\n",
    "    else:\n",
    "        return \"Неправильний формат змінної\""
   ]
  },
  {
   "cell_type": "code",
   "execution_count": 6,
   "id": "d5cf05fd",
   "metadata": {},
   "outputs": [
    {
     "data": {
      "text/plain": [
       "'10.2 у двійковій системі буде 1|1010.001'"
      ]
     },
     "execution_count": 6,
     "metadata": {},
     "output_type": "execute_result"
    }
   ],
   "source": [
    "task_7(-10.2)"
   ]
  },
  {
   "cell_type": "code",
   "execution_count": 7,
   "id": "0f0c8f60",
   "metadata": {},
   "outputs": [
    {
     "data": {
      "text/plain": [
       "'20.25 у двійковій системі буде 0|10100.01'"
      ]
     },
     "execution_count": 7,
     "metadata": {},
     "output_type": "execute_result"
    }
   ],
   "source": [
    "task_7(20.25)"
   ]
  },
  {
   "cell_type": "code",
   "execution_count": 12,
   "id": "ce2d5561",
   "metadata": {},
   "outputs": [
    {
     "data": {
      "text/plain": [
       "'Неправильний формат змінної'"
      ]
     },
     "execution_count": 12,
     "metadata": {},
     "output_type": "execute_result"
    }
   ],
   "source": [
    "task_7(\"string\")"
   ]
  },
  {
   "cell_type": "code",
   "execution_count": null,
   "id": "b451f5ad",
   "metadata": {},
   "outputs": [],
   "source": []
  }
 ],
 "metadata": {
  "kernelspec": {
   "display_name": "Python 3 (ipykernel)",
   "language": "python",
   "name": "python3"
  },
  "language_info": {
   "codemirror_mode": {
    "name": "ipython",
    "version": 3
   },
   "file_extension": ".py",
   "mimetype": "text/x-python",
   "name": "python",
   "nbconvert_exporter": "python",
   "pygments_lexer": "ipython3",
   "version": "3.7.1"
  }
 },
 "nbformat": 4,
 "nbformat_minor": 5
}
