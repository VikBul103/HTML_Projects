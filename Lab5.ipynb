{
 "cells": [
  {
   "cell_type": "code",
   "execution_count": 1,
   "id": "0b47ad05",
   "metadata": {},
   "outputs": [
    {
     "data": {
      "text/plain": [
       "2"
      ]
     },
     "execution_count": 1,
     "metadata": {},
     "output_type": "execute_result"
    }
   ],
   "source": [
    "N = ord(\"V\") % 5 + 1\n",
    "N"
   ]
  },
  {
   "cell_type": "code",
   "execution_count": 1,
   "id": "a069596c",
   "metadata": {},
   "outputs": [
    {
     "name": "stdout",
     "output_type": "stream",
     "text": [
      "Requirement already satisfied: pandas in c:\\users\\1007\\anaconda3\\envs\\first\\lib\\site-packages (1.3.5)\n",
      "Collecting opencv-python\n",
      "  Downloading opencv_python-4.10.0.84-cp37-abi3-win_amd64.whl (38.8 MB)\n",
      "     ---------------------------------------- 38.8/38.8 MB 5.3 MB/s eta 0:00:00\n",
      "Requirement already satisfied: pillow in c:\\users\\1007\\anaconda3\\envs\\first\\lib\\site-packages (9.5.0)\n",
      "Requirement already satisfied: python-dateutil>=2.7.3 in c:\\users\\1007\\anaconda3\\envs\\first\\lib\\site-packages (from pandas) (2.8.2)\n",
      "Requirement already satisfied: numpy>=1.17.3 in c:\\users\\1007\\anaconda3\\envs\\first\\lib\\site-packages (from pandas) (1.21.6)\n",
      "Requirement already satisfied: pytz>=2017.3 in c:\\users\\1007\\anaconda3\\envs\\first\\lib\\site-packages (from pandas) (2022.7)\n",
      "Requirement already satisfied: six>=1.5 in c:\\users\\1007\\anaconda3\\envs\\first\\lib\\site-packages (from python-dateutil>=2.7.3->pandas) (1.16.0)\n",
      "Installing collected packages: opencv-python\n",
      "Successfully installed opencv-python-4.10.0.84\n",
      "Note: you may need to restart the kernel to use updated packages.\n"
     ]
    }
   ],
   "source": [
    "pip install pandas opencv-python pillow"
   ]
  },
  {
   "cell_type": "code",
   "execution_count": 2,
   "id": "9da40efa",
   "metadata": {},
   "outputs": [
    {
     "name": "stdout",
     "output_type": "stream",
     "text": [
      "Результат збережено у файл: output_with_glasses.jpg\n"
     ]
    }
   ],
   "source": [
    "import pandas as pd\n",
    "import cv2\n",
    "from PIL import Image, ImageDraw\n",
    "\n",
    "# Завантаження даних із Excel\n",
    "file_path_excel = \"lab6.xlsx\"  # Вкажіть правильний шлях до файлу Excel\n",
    "variant_number = 2  # Ваш номер варіанту\n",
    "\n",
    "# Завантаження Excel та вибір потрібного рядка\n",
    "df = pd.read_excel(file_path_excel)\n",
    "variant_data = df[df['N'] == variant_number].iloc[0]\n",
    "\n",
    "# Зображення для обробки\n",
    "image_path = variant_data['file name']  # Назва файлу з таблиці\n",
    "image_size = tuple(map(int, variant_data['image size'].split('x')))  # Розмір зображення\n",
    "glasses_color = variant_data['glasses color']  # Колір окулярів\n",
    "line_width = int(variant_data['line width'])  # Товщина лінії\n",
    "\n",
    "# Завантаження зображення\n",
    "image = cv2.imread(image_path)\n",
    "\n",
    "# Зменшення зображення\n",
    "image_resized = cv2.resize(image, image_size, interpolation=cv2.INTER_AREA)\n",
    "\n",
    "# Конвертуємо зображення для роботи з PIL\n",
    "image_pil = Image.fromarray(cv2.cvtColor(image_resized, cv2.COLOR_BGR2RGB))\n",
    "draw = ImageDraw.Draw(image_pil)\n",
    "\n",
    "# Завантаження каскаду для обличчя та очей\n",
    "face_cascade = cv2.CascadeClassifier(cv2.data.haarcascades + 'haarcascade_frontalface_default.xml')\n",
    "eye_cascade = cv2.CascadeClassifier(cv2.data.haarcascades + 'haarcascade_eye.xml')\n",
    "\n",
    "# Виявлення обличчя\n",
    "gray_image = cv2.cvtColor(image_resized, cv2.COLOR_BGR2GRAY)\n",
    "faces = face_cascade.detectMultiScale(gray_image, scaleFactor=1.1, minNeighbors=5, minSize=(30, 30))\n",
    "\n",
    "# Малювання окулярів на очах\n",
    "for (x, y, w, h) in faces:\n",
    "    roi_gray = gray_image[y:y + h, x:x + w]\n",
    "    roi_color = image_resized[y:y + h, x:x + w]\n",
    "    eyes = eye_cascade.detectMultiScale(roi_gray)\n",
    "    for (ex, ey, ew, eh) in eyes:\n",
    "        # Координати очей\n",
    "        center_x, center_y = x + ex + ew // 2, y + ey + eh // 2\n",
    "        radius = max(ew, eh) // 2\n",
    "        # Малюємо коло\n",
    "        draw.ellipse(\n",
    "            (center_x - radius, center_y - radius, center_x + radius, center_y + radius),\n",
    "            outline=glasses_color, width=line_width\n",
    "        )\n",
    "\n",
    "# Збереження результату\n",
    "output_path = \"output_with_glasses.jpg\"\n",
    "image_pil.save(output_path)\n",
    "print(f\"Результат збережено у файл: {output_path}\")"
   ]
  },
  {
   "cell_type": "code",
   "execution_count": null,
   "id": "59da633f",
   "metadata": {},
   "outputs": [],
   "source": []
  }
 ],
 "metadata": {
  "kernelspec": {
   "display_name": "Python 3 (ipykernel)",
   "language": "python",
   "name": "python3"
  },
  "language_info": {
   "codemirror_mode": {
    "name": "ipython",
    "version": 3
   },
   "file_extension": ".py",
   "mimetype": "text/x-python",
   "name": "python",
   "nbconvert_exporter": "python",
   "pygments_lexer": "ipython3",
   "version": "3.7.1"
  }
 },
 "nbformat": 4,
 "nbformat_minor": 5
}
